{
 "cells": [
  {
   "cell_type": "markdown",
   "id": "cc223b72-5813-471d-9b8e-2336d152ac80",
   "metadata": {
    "tags": []
   },
   "source": [
    "# DSCI 100 Group Project"
   ]
  },
  {
   "cell_type": "code",
   "execution_count": 1,
   "id": "bc039f4a-ec54-41d6-bd51-c0c207f70c40",
   "metadata": {
    "tags": []
   },
   "outputs": [
    {
     "name": "stderr",
     "output_type": "stream",
     "text": [
      "── \u001b[1mAttaching packages\u001b[22m ─────────────────────────────────────── tidyverse 1.3.2 ──\n",
      "\u001b[32m✔\u001b[39m \u001b[34mggplot2\u001b[39m 3.4.2     \u001b[32m✔\u001b[39m \u001b[34mpurrr  \u001b[39m 1.0.1\n",
      "\u001b[32m✔\u001b[39m \u001b[34mtibble \u001b[39m 3.2.1     \u001b[32m✔\u001b[39m \u001b[34mdplyr  \u001b[39m 1.1.1\n",
      "\u001b[32m✔\u001b[39m \u001b[34mtidyr  \u001b[39m 1.3.0     \u001b[32m✔\u001b[39m \u001b[34mstringr\u001b[39m 1.5.0\n",
      "\u001b[32m✔\u001b[39m \u001b[34mreadr  \u001b[39m 2.1.3     \u001b[32m✔\u001b[39m \u001b[34mforcats\u001b[39m 0.5.2\n",
      "── \u001b[1mConflicts\u001b[22m ────────────────────────────────────────── tidyverse_conflicts() ──\n",
      "\u001b[31m✖\u001b[39m \u001b[34mdplyr\u001b[39m::\u001b[32mfilter()\u001b[39m masks \u001b[34mstats\u001b[39m::filter()\n",
      "\u001b[31m✖\u001b[39m \u001b[34mdplyr\u001b[39m::\u001b[32mlag()\u001b[39m    masks \u001b[34mstats\u001b[39m::lag()\n",
      "── \u001b[1mAttaching packages\u001b[22m ────────────────────────────────────── tidymodels 1.0.0 ──\n",
      "\n",
      "\u001b[32m✔\u001b[39m \u001b[34mbroom       \u001b[39m 1.0.2     \u001b[32m✔\u001b[39m \u001b[34mrsample     \u001b[39m 1.1.1\n",
      "\u001b[32m✔\u001b[39m \u001b[34mdials       \u001b[39m 1.1.0     \u001b[32m✔\u001b[39m \u001b[34mtune        \u001b[39m 1.0.1\n",
      "\u001b[32m✔\u001b[39m \u001b[34minfer       \u001b[39m 1.0.4     \u001b[32m✔\u001b[39m \u001b[34mworkflows   \u001b[39m 1.1.2\n",
      "\u001b[32m✔\u001b[39m \u001b[34mmodeldata   \u001b[39m 1.0.1     \u001b[32m✔\u001b[39m \u001b[34mworkflowsets\u001b[39m 1.0.0\n",
      "\u001b[32m✔\u001b[39m \u001b[34mparsnip     \u001b[39m 1.0.3     \u001b[32m✔\u001b[39m \u001b[34myardstick   \u001b[39m 1.1.0\n",
      "\u001b[32m✔\u001b[39m \u001b[34mrecipes     \u001b[39m 1.0.4     \n",
      "\n",
      "── \u001b[1mConflicts\u001b[22m ───────────────────────────────────────── tidymodels_conflicts() ──\n",
      "\u001b[31m✖\u001b[39m \u001b[34mscales\u001b[39m::\u001b[32mdiscard()\u001b[39m masks \u001b[34mpurrr\u001b[39m::discard()\n",
      "\u001b[31m✖\u001b[39m \u001b[34mdplyr\u001b[39m::\u001b[32mfilter()\u001b[39m   masks \u001b[34mstats\u001b[39m::filter()\n",
      "\u001b[31m✖\u001b[39m \u001b[34mrecipes\u001b[39m::\u001b[32mfixed()\u001b[39m  masks \u001b[34mstringr\u001b[39m::fixed()\n",
      "\u001b[31m✖\u001b[39m \u001b[34mdplyr\u001b[39m::\u001b[32mlag()\u001b[39m      masks \u001b[34mstats\u001b[39m::lag()\n",
      "\u001b[31m✖\u001b[39m \u001b[34myardstick\u001b[39m::\u001b[32mspec()\u001b[39m masks \u001b[34mreadr\u001b[39m::spec()\n",
      "\u001b[31m✖\u001b[39m \u001b[34mrecipes\u001b[39m::\u001b[32mstep()\u001b[39m   masks \u001b[34mstats\u001b[39m::step()\n",
      "\u001b[34m•\u001b[39m Use \u001b[32mtidymodels_prefer()\u001b[39m to resolve common conflicts.\n",
      "\n"
     ]
    }
   ],
   "source": [
    "library(tidyverse)\n",
    "library(repr)\n",
    "library(tidymodels)"
   ]
  },
  {
   "cell_type": "markdown",
   "id": "050ac3a0-8f0c-440d-a73e-23d848fee6af",
   "metadata": {},
   "source": [
    "# Title:"
   ]
  },
  {
   "cell_type": "markdown",
   "id": "d7410ee9-4717-491d-adc7-cc810bb239da",
   "metadata": {},
   "source": [
    "text here"
   ]
  },
  {
   "cell_type": "markdown",
   "id": "d3754573-c72f-4223-a59e-8fe8b37bb1cf",
   "metadata": {
    "tags": []
   },
   "source": [
    "## Intro:"
   ]
  },
  {
   "cell_type": "markdown",
   "id": "c7154933-7e88-4301-b64f-5566a2bbee36",
   "metadata": {},
   "source": [
    "text here"
   ]
  },
  {
   "cell_type": "markdown",
   "id": "dc4663c8-24d5-4691-93a8-216ae2117bac",
   "metadata": {},
   "source": [
    "# Preliminary Data Analysis"
   ]
  },
  {
   "cell_type": "markdown",
   "id": "984c6801-8438-498c-bd36-a0384f6799d2",
   "metadata": {
    "tags": []
   },
   "source": [
    "text here"
   ]
  },
  {
   "cell_type": "code",
   "execution_count": 42,
   "id": "71009e3f-4179-4783-85d3-4f3fb2f78a29",
   "metadata": {
    "tags": []
   },
   "outputs": [
    {
     "name": "stderr",
     "output_type": "stream",
     "text": [
      "\u001b[1mRows: \u001b[22m\u001b[34m10000\u001b[39m \u001b[1mColumns: \u001b[22m\u001b[34m18\u001b[39m\n",
      "\u001b[36m──\u001b[39m \u001b[1mColumn specification\u001b[22m \u001b[36m────────────────────────────────────────────────────────\u001b[39m\n",
      "\u001b[1mDelimiter:\u001b[22m \",\"\n",
      "\u001b[31mchr\u001b[39m  (4): Surname, Geography, Gender, Card Type\n",
      "\u001b[32mdbl\u001b[39m (14): RowNumber, CustomerId, CreditScore, Age, Tenure, Balance, NumOfPro...\n",
      "\n",
      "\u001b[36mℹ\u001b[39m Use `spec()` to retrieve the full column specification for this data.\n",
      "\u001b[36mℹ\u001b[39m Specify the column types or set `show_col_types = FALSE` to quiet this message.\n"
     ]
    },
    {
     "data": {
      "text/html": [
       "<table class=\"dataframe\">\n",
       "<caption>A tibble: 6 × 18</caption>\n",
       "<thead>\n",
       "\t<tr><th scope=col>RowNumber</th><th scope=col>CustomerId</th><th scope=col>Surname</th><th scope=col>CreditScore</th><th scope=col>Geography</th><th scope=col>Gender</th><th scope=col>Age</th><th scope=col>Tenure</th><th scope=col>Balance</th><th scope=col>NumOfProducts</th><th scope=col>HasCrCard</th><th scope=col>IsActiveMember</th><th scope=col>EstimatedSalary</th><th scope=col>Exited</th><th scope=col>Complain</th><th scope=col>Satisfaction Score</th><th scope=col>CardType</th><th scope=col>PointEarned</th></tr>\n",
       "\t<tr><th scope=col>&lt;dbl&gt;</th><th scope=col>&lt;dbl&gt;</th><th scope=col>&lt;chr&gt;</th><th scope=col>&lt;dbl&gt;</th><th scope=col>&lt;chr&gt;</th><th scope=col>&lt;chr&gt;</th><th scope=col>&lt;dbl&gt;</th><th scope=col>&lt;dbl&gt;</th><th scope=col>&lt;dbl&gt;</th><th scope=col>&lt;dbl&gt;</th><th scope=col>&lt;dbl&gt;</th><th scope=col>&lt;dbl&gt;</th><th scope=col>&lt;dbl&gt;</th><th scope=col>&lt;dbl&gt;</th><th scope=col>&lt;dbl&gt;</th><th scope=col>&lt;dbl&gt;</th><th scope=col>&lt;fct&gt;</th><th scope=col>&lt;dbl&gt;</th></tr>\n",
       "</thead>\n",
       "<tbody>\n",
       "\t<tr><td>1</td><td>15634602</td><td>Hargrave</td><td>619</td><td>France</td><td>Female</td><td>42</td><td>2</td><td>     0.00</td><td>1</td><td>1</td><td>1</td><td>101348.88</td><td>1</td><td>1</td><td>2</td><td>DIAMOND</td><td>464</td></tr>\n",
       "\t<tr><td>2</td><td>15647311</td><td>Hill    </td><td>608</td><td>Spain </td><td>Female</td><td>41</td><td>1</td><td> 83807.86</td><td>1</td><td>0</td><td>1</td><td>112542.58</td><td>0</td><td>1</td><td>3</td><td>DIAMOND</td><td>456</td></tr>\n",
       "\t<tr><td>3</td><td>15619304</td><td>Onio    </td><td>502</td><td>France</td><td>Female</td><td>42</td><td>8</td><td>159660.80</td><td>3</td><td>1</td><td>0</td><td>113931.57</td><td>1</td><td>1</td><td>3</td><td>DIAMOND</td><td>377</td></tr>\n",
       "\t<tr><td>4</td><td>15701354</td><td>Boni    </td><td>699</td><td>France</td><td>Female</td><td>39</td><td>1</td><td>     0.00</td><td>2</td><td>0</td><td>0</td><td> 93826.63</td><td>0</td><td>0</td><td>5</td><td>GOLD   </td><td>350</td></tr>\n",
       "\t<tr><td>5</td><td>15737888</td><td>Mitchell</td><td>850</td><td>Spain </td><td>Female</td><td>43</td><td>2</td><td>125510.82</td><td>1</td><td>1</td><td>1</td><td> 79084.10</td><td>0</td><td>0</td><td>5</td><td>GOLD   </td><td>425</td></tr>\n",
       "\t<tr><td>6</td><td>15574012</td><td>Chu     </td><td>645</td><td>Spain </td><td>Male  </td><td>44</td><td>8</td><td>113755.78</td><td>2</td><td>1</td><td>0</td><td>149756.71</td><td>1</td><td>1</td><td>5</td><td>DIAMOND</td><td>484</td></tr>\n",
       "</tbody>\n",
       "</table>\n"
      ],
      "text/latex": [
       "A tibble: 6 × 18\n",
       "\\begin{tabular}{llllllllllllllllll}\n",
       " RowNumber & CustomerId & Surname & CreditScore & Geography & Gender & Age & Tenure & Balance & NumOfProducts & HasCrCard & IsActiveMember & EstimatedSalary & Exited & Complain & Satisfaction Score & CardType & PointEarned\\\\\n",
       " <dbl> & <dbl> & <chr> & <dbl> & <chr> & <chr> & <dbl> & <dbl> & <dbl> & <dbl> & <dbl> & <dbl> & <dbl> & <dbl> & <dbl> & <dbl> & <fct> & <dbl>\\\\\n",
       "\\hline\n",
       "\t 1 & 15634602 & Hargrave & 619 & France & Female & 42 & 2 &      0.00 & 1 & 1 & 1 & 101348.88 & 1 & 1 & 2 & DIAMOND & 464\\\\\n",
       "\t 2 & 15647311 & Hill     & 608 & Spain  & Female & 41 & 1 &  83807.86 & 1 & 0 & 1 & 112542.58 & 0 & 1 & 3 & DIAMOND & 456\\\\\n",
       "\t 3 & 15619304 & Onio     & 502 & France & Female & 42 & 8 & 159660.80 & 3 & 1 & 0 & 113931.57 & 1 & 1 & 3 & DIAMOND & 377\\\\\n",
       "\t 4 & 15701354 & Boni     & 699 & France & Female & 39 & 1 &      0.00 & 2 & 0 & 0 &  93826.63 & 0 & 0 & 5 & GOLD    & 350\\\\\n",
       "\t 5 & 15737888 & Mitchell & 850 & Spain  & Female & 43 & 2 & 125510.82 & 1 & 1 & 1 &  79084.10 & 0 & 0 & 5 & GOLD    & 425\\\\\n",
       "\t 6 & 15574012 & Chu      & 645 & Spain  & Male   & 44 & 8 & 113755.78 & 2 & 1 & 0 & 149756.71 & 1 & 1 & 5 & DIAMOND & 484\\\\\n",
       "\\end{tabular}\n"
      ],
      "text/markdown": [
       "\n",
       "A tibble: 6 × 18\n",
       "\n",
       "| RowNumber &lt;dbl&gt; | CustomerId &lt;dbl&gt; | Surname &lt;chr&gt; | CreditScore &lt;dbl&gt; | Geography &lt;chr&gt; | Gender &lt;chr&gt; | Age &lt;dbl&gt; | Tenure &lt;dbl&gt; | Balance &lt;dbl&gt; | NumOfProducts &lt;dbl&gt; | HasCrCard &lt;dbl&gt; | IsActiveMember &lt;dbl&gt; | EstimatedSalary &lt;dbl&gt; | Exited &lt;dbl&gt; | Complain &lt;dbl&gt; | Satisfaction Score &lt;dbl&gt; | CardType &lt;fct&gt; | PointEarned &lt;dbl&gt; |\n",
       "|---|---|---|---|---|---|---|---|---|---|---|---|---|---|---|---|---|---|\n",
       "| 1 | 15634602 | Hargrave | 619 | France | Female | 42 | 2 |      0.00 | 1 | 1 | 1 | 101348.88 | 1 | 1 | 2 | DIAMOND | 464 |\n",
       "| 2 | 15647311 | Hill     | 608 | Spain  | Female | 41 | 1 |  83807.86 | 1 | 0 | 1 | 112542.58 | 0 | 1 | 3 | DIAMOND | 456 |\n",
       "| 3 | 15619304 | Onio     | 502 | France | Female | 42 | 8 | 159660.80 | 3 | 1 | 0 | 113931.57 | 1 | 1 | 3 | DIAMOND | 377 |\n",
       "| 4 | 15701354 | Boni     | 699 | France | Female | 39 | 1 |      0.00 | 2 | 0 | 0 |  93826.63 | 0 | 0 | 5 | GOLD    | 350 |\n",
       "| 5 | 15737888 | Mitchell | 850 | Spain  | Female | 43 | 2 | 125510.82 | 1 | 1 | 1 |  79084.10 | 0 | 0 | 5 | GOLD    | 425 |\n",
       "| 6 | 15574012 | Chu      | 645 | Spain  | Male   | 44 | 8 | 113755.78 | 2 | 1 | 0 | 149756.71 | 1 | 1 | 5 | DIAMOND | 484 |\n",
       "\n"
      ],
      "text/plain": [
       "  RowNumber CustomerId Surname  CreditScore Geography Gender Age Tenure\n",
       "1 1         15634602   Hargrave 619         France    Female 42  2     \n",
       "2 2         15647311   Hill     608         Spain     Female 41  1     \n",
       "3 3         15619304   Onio     502         France    Female 42  8     \n",
       "4 4         15701354   Boni     699         France    Female 39  1     \n",
       "5 5         15737888   Mitchell 850         Spain     Female 43  2     \n",
       "6 6         15574012   Chu      645         Spain     Male   44  8     \n",
       "  Balance   NumOfProducts HasCrCard IsActiveMember EstimatedSalary Exited\n",
       "1      0.00 1             1         1              101348.88       1     \n",
       "2  83807.86 1             0         1              112542.58       0     \n",
       "3 159660.80 3             1         0              113931.57       1     \n",
       "4      0.00 2             0         0               93826.63       0     \n",
       "5 125510.82 1             1         1               79084.10       0     \n",
       "6 113755.78 2             1         0              149756.71       1     \n",
       "  Complain Satisfaction Score CardType PointEarned\n",
       "1 1        2                  DIAMOND  464        \n",
       "2 1        3                  DIAMOND  456        \n",
       "3 1        3                  DIAMOND  377        \n",
       "4 0        5                  GOLD     350        \n",
       "5 0        5                  GOLD     425        \n",
       "6 1        5                  DIAMOND  484        "
      ]
     },
     "metadata": {},
     "output_type": "display_data"
    }
   ],
   "source": [
    "#Code Here\n",
    "BankData <- read_csv(\"https://raw.githubusercontent.com/3deiuah/DSCI-100-Group-Project/main/Customer-Churn-Records.csv\")  \n",
    "colnames(BankData)[17] <- \"CardType\"\n",
    "colnames(BankData)[18] <- \"PointEarned\"\n",
    "BankData <- mutate(BankData,CardType = as_factor(CardType))\n",
    "head(BankData) #Data set loaded into R, Data Set is already Tidy"
   ]
  },
  {
   "cell_type": "code",
   "execution_count": null,
   "id": "80e32e21-64b8-4254-90ae-d7200f2b1bff",
   "metadata": {},
   "outputs": [],
   "source": []
  },
  {
   "cell_type": "code",
   "execution_count": 43,
   "id": "f1282031-31b5-47ed-8e2a-bcc1ad283707",
   "metadata": {
    "tags": []
   },
   "outputs": [],
   "source": [
    "bank_split <- initial_split(BankData, prop = 0.75, strata = CreditScore)\n",
    "bank_train <- training(bank_split)\n",
    "bank_test <- testing(bank_split)"
   ]
  },
  {
   "cell_type": "code",
   "execution_count": 44,
   "id": "d74f0a36-f7fb-46c8-bf52-d00bf43aa1b4",
   "metadata": {
    "tags": []
   },
   "outputs": [
    {
     "data": {
      "text/html": [
       "<table class=\"dataframe\">\n",
       "<caption>A tibble: 4 × 2</caption>\n",
       "<thead>\n",
       "\t<tr><th scope=col>CardType</th><th scope=col>CardCount</th></tr>\n",
       "\t<tr><th scope=col>&lt;fct&gt;</th><th scope=col>&lt;int&gt;</th></tr>\n",
       "</thead>\n",
       "<tbody>\n",
       "\t<tr><td>DIAMOND </td><td>1883</td></tr>\n",
       "\t<tr><td>GOLD    </td><td>1885</td></tr>\n",
       "\t<tr><td>SILVER  </td><td>1890</td></tr>\n",
       "\t<tr><td>PLATINUM</td><td>1840</td></tr>\n",
       "</tbody>\n",
       "</table>\n"
      ],
      "text/latex": [
       "A tibble: 4 × 2\n",
       "\\begin{tabular}{ll}\n",
       " CardType & CardCount\\\\\n",
       " <fct> & <int>\\\\\n",
       "\\hline\n",
       "\t DIAMOND  & 1883\\\\\n",
       "\t GOLD     & 1885\\\\\n",
       "\t SILVER   & 1890\\\\\n",
       "\t PLATINUM & 1840\\\\\n",
       "\\end{tabular}\n"
      ],
      "text/markdown": [
       "\n",
       "A tibble: 4 × 2\n",
       "\n",
       "| CardType &lt;fct&gt; | CardCount &lt;int&gt; |\n",
       "|---|---|\n",
       "| DIAMOND  | 1883 |\n",
       "| GOLD     | 1885 |\n",
       "| SILVER   | 1890 |\n",
       "| PLATINUM | 1840 |\n",
       "\n"
      ],
      "text/plain": [
       "  CardType CardCount\n",
       "1 DIAMOND  1883     \n",
       "2 GOLD     1885     \n",
       "3 SILVER   1890     \n",
       "4 PLATINUM 1840     "
      ]
     },
     "metadata": {},
     "output_type": "display_data"
    },
    {
     "data": {
      "text/html": [
       "<table class=\"dataframe\">\n",
       "<caption>A tibble: 1 × 1</caption>\n",
       "<thead>\n",
       "\t<tr><th scope=col>PointEarnedMean</th></tr>\n",
       "\t<tr><th scope=col>&lt;dbl&gt;</th></tr>\n",
       "</thead>\n",
       "<tbody>\n",
       "\t<tr><td>607.5886</td></tr>\n",
       "</tbody>\n",
       "</table>\n"
      ],
      "text/latex": [
       "A tibble: 1 × 1\n",
       "\\begin{tabular}{l}\n",
       " PointEarnedMean\\\\\n",
       " <dbl>\\\\\n",
       "\\hline\n",
       "\t 607.5886\\\\\n",
       "\\end{tabular}\n"
      ],
      "text/markdown": [
       "\n",
       "A tibble: 1 × 1\n",
       "\n",
       "| PointEarnedMean &lt;dbl&gt; |\n",
       "|---|\n",
       "| 607.5886 |\n",
       "\n"
      ],
      "text/plain": [
       "  PointEarnedMean\n",
       "1 607.5886       "
      ]
     },
     "metadata": {},
     "output_type": "display_data"
    }
   ],
   "source": [
    "\n",
    "bank_table <- bank_train |> select(PointEarned) |> summarize(PointEarnedMean = mean(PointEarned))\n",
    "counttest <- bank_train |> select(CardType) |> group_by(CardType) |> summarize(CardCount = n())\n",
    "counttest\n",
    "bank_table"
   ]
  },
  {
   "cell_type": "code",
   "execution_count": null,
   "id": "ce31ce4d-b99e-456f-8b71-db9aa3834288",
   "metadata": {
    "tags": []
   },
   "outputs": [],
   "source": [
    "cardTypePlot <- bank_train |> select(EstimatedSalary) |> ggplot(aes(x = EstimatedSalary)) + geom_histogram() #|> group_by(EstimatedSalary) |> summarize(EstimatedSalaryCount = n()) |> arrange() |> ggplot(aes(x = EstimatedSalary, y = EstimatedSalaryCount)) + geom_point()\n",
    "cardTypePlot"
   ]
  },
  {
   "cell_type": "markdown",
   "id": "986001c6-ff78-4b81-a55a-5fba9309cf91",
   "metadata": {},
   "source": [
    "# Methods"
   ]
  },
  {
   "cell_type": "markdown",
   "id": "c714a78e-a899-4e0b-a83a-28e39b99e2ec",
   "metadata": {},
   "source": [
    "Text Here"
   ]
  },
  {
   "cell_type": "markdown",
   "id": "4d85828a-d6b9-4077-84e1-ab05cebaea4e",
   "metadata": {},
   "source": [
    "# Expected Outcomes and Significance"
   ]
  },
  {
   "cell_type": "markdown",
   "id": "54f8b9c2-8bf4-4e92-9a61-a0f62a1714f8",
   "metadata": {},
   "source": [
    "text here"
   ]
  },
  {
   "cell_type": "code",
   "execution_count": null,
   "id": "4c5b00c3-9e28-42ac-adfc-656ff48c9d37",
   "metadata": {},
   "outputs": [],
   "source": []
  }
 ],
 "metadata": {
  "kernelspec": {
   "display_name": "R",
   "language": "R",
   "name": "ir"
  },
  "language_info": {
   "codemirror_mode": "r",
   "file_extension": ".r",
   "mimetype": "text/x-r-source",
   "name": "R",
   "pygments_lexer": "r",
   "version": "4.2.2"
  }
 },
 "nbformat": 4,
 "nbformat_minor": 5
}
