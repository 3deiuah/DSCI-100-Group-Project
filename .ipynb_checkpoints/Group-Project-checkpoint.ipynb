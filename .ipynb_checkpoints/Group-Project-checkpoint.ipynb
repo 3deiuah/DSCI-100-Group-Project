{
 "cells": [
  {
   "cell_type": "markdown",
   "id": "cc223b72-5813-471d-9b8e-2336d152ac80",
   "metadata": {
    "tags": []
   },
   "source": [
    "# DSCI 100 Group Project"
   ]
  },
  {
   "cell_type": "markdown",
   "id": "050ac3a0-8f0c-440d-a73e-23d848fee6af",
   "metadata": {},
   "source": [
    "# Title:"
   ]
  },
  {
   "cell_type": "markdown",
   "id": "d7410ee9-4717-491d-adc7-cc810bb239da",
   "metadata": {},
   "source": [
    "text here"
   ]
  },
  {
   "cell_type": "markdown",
   "id": "d3754573-c72f-4223-a59e-8fe8b37bb1cf",
   "metadata": {
    "tags": []
   },
   "source": [
    "## Intro:"
   ]
  },
  {
   "cell_type": "markdown",
   "id": "c7154933-7e88-4301-b64f-5566a2bbee36",
   "metadata": {},
   "source": [
    "text here"
   ]
  },
  {
   "cell_type": "markdown",
   "id": "dc4663c8-24d5-4691-93a8-216ae2117bac",
   "metadata": {},
   "source": [
    "# Preliminary Data Analysis"
   ]
  },
  {
   "cell_type": "markdown",
   "id": "984c6801-8438-498c-bd36-a0384f6799d2",
   "metadata": {
    "tags": []
   },
   "source": [
    "text here"
   ]
  },
  {
   "cell_type": "code",
   "execution_count": 5,
   "id": "71009e3f-4179-4783-85d3-4f3fb2f78a29",
   "metadata": {
    "tags": []
   },
   "outputs": [],
   "source": [
    "#Code Here"
   ]
  },
  {
   "cell_type": "markdown",
   "id": "986001c6-ff78-4b81-a55a-5fba9309cf91",
   "metadata": {},
   "source": [
    "# Methods"
   ]
  },
  {
   "cell_type": "markdown",
   "id": "c714a78e-a899-4e0b-a83a-28e39b99e2ec",
   "metadata": {},
   "source": [
    "Text Here"
   ]
  },
  {
   "cell_type": "markdown",
   "id": "4d85828a-d6b9-4077-84e1-ab05cebaea4e",
   "metadata": {},
   "source": [
    "# Expected Outcomes and Significance"
   ]
  },
  {
   "cell_type": "markdown",
   "id": "54f8b9c2-8bf4-4e92-9a61-a0f62a1714f8",
   "metadata": {},
   "source": [
    "text here"
   ]
  },
  {
   "cell_type": "code",
   "execution_count": null,
   "id": "4c5b00c3-9e28-42ac-adfc-656ff48c9d37",
   "metadata": {},
   "outputs": [],
   "source": []
  }
 ],
 "metadata": {
  "kernelspec": {
   "display_name": "R",
   "language": "R",
   "name": "ir"
  },
  "language_info": {
   "codemirror_mode": "r",
   "file_extension": ".r",
   "mimetype": "text/x-r-source",
   "name": "R",
   "pygments_lexer": "r",
   "version": "4.2.2"
  }
 },
 "nbformat": 4,
 "nbformat_minor": 5
}
